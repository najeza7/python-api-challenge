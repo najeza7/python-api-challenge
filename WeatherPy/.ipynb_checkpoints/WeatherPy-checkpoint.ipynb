{
 "cells": [
  {
   "cell_type": "markdown",
   "metadata": {},
   "source": [
    "# WeatherPy\n",
    "----\n",
    "\n",
    "#### Note\n",
    "* Instructions have been included for each segment. You do not have to follow them exactly, but they are included to help you think through the steps."
   ]
  },
  {
   "cell_type": "code",
   "execution_count": 2,
   "metadata": {
    "scrolled": true
   },
   "outputs": [],
   "source": [
    "# Dependencies and Setup\n",
    "import matplotlib.pyplot as plt\n",
    "import pandas as pd\n",
    "import numpy as np\n",
    "import requests\n",
    "import time\n",
    "from scipy.stats import linregress\n",
    "\n",
    "# Import API key\n",
    "from config import api_key\n",
    "\n",
    "# Incorporated citipy to determine city based on latitude and longitude\n",
    "from citipy import citipy\n",
    "\n",
    "# Output File (CSV)\n",
    "output_data_file = \"output_data/cities.csv\"\n",
    "\n",
    "# Range of latitudes and longitudes\n",
    "lat_range = (-90, 90)\n",
    "lng_range = (-180, 180)"
   ]
  },
  {
   "cell_type": "markdown",
   "metadata": {},
   "source": [
    "## Generate Cities List"
   ]
  },
  {
   "cell_type": "code",
   "execution_count": 3,
   "metadata": {},
   "outputs": [
    {
     "data": {
      "text/plain": [
       "608"
      ]
     },
     "execution_count": 3,
     "metadata": {},
     "output_type": "execute_result"
    }
   ],
   "source": [
    "# List for holding lat_lngs and cities\n",
    "lat_lngs = []\n",
    "cities = []\n",
    "\n",
    "# Create a set of random lat and lng combinations\n",
    "lats = np.random.uniform(lat_range[0], lat_range[1], size=1500)\n",
    "lngs = np.random.uniform(lng_range[0], lng_range[1], size=1500)\n",
    "lat_lngs = zip(lats, lngs)\n",
    "\n",
    "# Identify nearest city for each lat, lng combination\n",
    "for lat_lng in lat_lngs:\n",
    "    city = citipy.nearest_city(lat_lng[0], lat_lng[1]).city_name\n",
    "    \n",
    "    # If the city is unique, then add it to a our cities list\n",
    "    if city not in cities:\n",
    "        cities.append(city)\n",
    "\n",
    "# Print the city count to confirm sufficient count\n",
    "len(cities)"
   ]
  },
  {
   "cell_type": "markdown",
   "metadata": {},
   "source": [
    "### Perform API Calls\n",
    "* Perform a weather check on each city using a series of successive API calls.\n",
    "* Include a print log of each city as it'sbeing processed (with the city number and city name).\n"
   ]
  },
  {
   "cell_type": "code",
   "execution_count": 10,
   "metadata": {
    "scrolled": true
   },
   "outputs": [
    {
     "name": "stdout",
     "output_type": "stream",
     "text": [
      "rikitea found! Appending stats\n",
      "flinders found! Appending stats\n",
      "kruisfontein found! Appending stats\n",
      "bathsheba found! Appending stats\n",
      "albany found! Appending stats\n",
      "tuktoyaktuk found! Appending stats\n",
      "saint-pierre found! Appending stats\n",
      "banda aceh found! Appending stats\n",
      "hermanus found! Appending stats\n",
      "gat found! Appending stats\n",
      "mar del plata found! Appending stats\n",
      "dakar found! Appending stats\n",
      "kilinochchi found! Appending stats\n",
      "mataura found! Appending stats\n",
      "asau found! Appending stats\n",
      "tiksi found! Appending stats\n",
      "phetchabun found! Appending stats\n",
      "qaanaaq found! Appending stats\n",
      "bredasdorp found! Appending stats\n",
      "saint-philippe found! Appending stats\n",
      "cidreira found! Appending stats\n",
      "mount gambier found! Appending stats\n",
      "airai found! Appending stats\n",
      "City not found\n",
      "grajau found! Appending stats\n",
      "port alfred found! Appending stats\n",
      "arraial do cabo found! Appending stats\n",
      "chokurdakh found! Appending stats\n",
      "cape town found! Appending stats\n",
      "hanzhong found! Appending stats\n",
      "puerto ayora found! Appending stats\n",
      "hilo found! Appending stats\n",
      "pulandian found! Appending stats\n",
      "badou found! Appending stats\n",
      "sawakin found! Appending stats\n",
      "manutuke found! Appending stats\n",
      "lagoa found! Appending stats\n",
      "busselton found! Appending stats\n",
      "bluff found! Appending stats\n",
      "broome found! Appending stats\n",
      "taloqan found! Appending stats\n",
      "arica found! Appending stats\n",
      "leningradskiy found! Appending stats\n",
      "conway found! Appending stats\n",
      "gravdal found! Appending stats\n",
      "ponta do sol found! Appending stats\n",
      "san lorenzo found! Appending stats\n",
      "punta arenas found! Appending stats\n",
      "wattegama found! Appending stats\n",
      "kapaa found! Appending stats\n",
      "inhambane found! Appending stats\n",
      "yerbogachen found! Appending stats\n",
      "yulara found! Appending stats\n",
      "butaritari found! Appending stats\n",
      "sept-iles found! Appending stats\n",
      "port blair found! Appending stats\n",
      "City not found\n",
      "jamestown found! Appending stats\n",
      "ribeira grande found! Appending stats\n",
      "City not found\n",
      "ancud found! Appending stats\n",
      "vaini found! Appending stats\n",
      "ushuaia found! Appending stats\n",
      "yaan found! Appending stats\n",
      "City not found\n",
      "khatanga found! Appending stats\n",
      "lewiston found! Appending stats\n",
      "hithadhoo found! Appending stats\n",
      "antigonish found! Appending stats\n",
      "thai binh found! Appending stats\n",
      "sao filipe found! Appending stats\n",
      "kahului found! Appending stats\n",
      "faanui found! Appending stats\n",
      "barrow found! Appending stats\n",
      "touros found! Appending stats\n",
      "yellowknife found! Appending stats\n",
      "upernavik found! Appending stats\n",
      "coruripe found! Appending stats\n",
      "bengkulu found! Appending stats\n",
      "hobart found! Appending stats\n",
      "City not found\n",
      "kodiak found! Appending stats\n",
      "gigmoto found! Appending stats\n",
      "saint george found! Appending stats\n",
      "lompoc found! Appending stats\n",
      "east london found! Appending stats\n",
      "pangobilian found! Appending stats\n",
      "denpasar found! Appending stats\n",
      "itacare found! Appending stats\n",
      "batagay-alyta found! Appending stats\n",
      "deputatskiy found! Appending stats\n",
      "miri found! Appending stats\n",
      "balabac found! Appending stats\n",
      "new norfolk found! Appending stats\n",
      "yar-sale found! Appending stats\n",
      "jaguey grande found! Appending stats\n",
      "pacifica found! Appending stats\n",
      "kaveripattinam found! Appending stats\n",
      "City not found\n",
      "victoria found! Appending stats\n",
      "sitka found! Appending stats\n",
      "saskylakh found! Appending stats\n",
      "qaqortoq found! Appending stats\n",
      "eyl found! Appending stats\n",
      "stulovo found! Appending stats\n",
      "bethel found! Appending stats\n",
      "lavrentiya found! Appending stats\n",
      "ilheus found! Appending stats\n",
      "castro found! Appending stats\n",
      "zyryanka found! Appending stats\n",
      "chuy found! Appending stats\n",
      "ngunguru found! Appending stats\n",
      "thompson found! Appending stats\n",
      "tilichiki found! Appending stats\n",
      "provideniya found! Appending stats\n",
      "changuinola found! Appending stats\n",
      "berlevag found! Appending stats\n",
      "ca mau found! Appending stats\n",
      "dukat found! Appending stats\n",
      "dicabisagan found! Appending stats\n",
      "hambantota found! Appending stats\n",
      "City not found\n",
      "vaitape found! Appending stats\n",
      "namatanai found! Appending stats\n",
      "City not found\n",
      "georgetown found! Appending stats\n",
      "at-bashi found! Appending stats\n",
      "fushe-arrez found! Appending stats\n",
      "songjianghe found! Appending stats\n",
      "east grinstead found! Appending stats\n",
      "suarez found! Appending stats\n",
      "City not found\n",
      "namibe found! Appending stats\n",
      "okha found! Appending stats\n",
      "waipawa found! Appending stats\n",
      "juarez found! Appending stats\n",
      "tateyama found! Appending stats\n",
      "sao joao do piaui found! Appending stats\n",
      "tasiilaq found! Appending stats\n",
      "nanortalik found! Appending stats\n",
      "atuona found! Appending stats\n",
      "zhuhai found! Appending stats\n",
      "fare found! Appending stats\n",
      "mahebourg found! Appending stats\n",
      "de panne found! Appending stats\n",
      "jaypur found! Appending stats\n",
      "harrai found! Appending stats\n",
      "bonthe found! Appending stats\n",
      "labuhan found! Appending stats\n",
      "yuksekova found! Appending stats\n",
      "City not found\n",
      "bay roberts found! Appending stats\n",
      "mehamn found! Appending stats\n",
      "kyra found! Appending stats\n",
      "havre-saint-pierre found! Appending stats\n",
      "ukiah found! Appending stats\n",
      "sayat found! Appending stats\n",
      "semenyih found! Appending stats\n",
      "acapulco found! Appending stats\n",
      "norman wells found! Appending stats\n",
      "itaqui found! Appending stats\n",
      "dikson found! Appending stats\n",
      "baruun-urt found! Appending stats\n",
      "dalvik found! Appending stats\n",
      "hualmay found! Appending stats\n",
      "omsukchan found! Appending stats\n",
      "muros found! Appending stats\n",
      "City not found\n",
      "beian found! Appending stats\n",
      "mankato found! Appending stats\n",
      "moree found! Appending stats\n",
      "togur found! Appending stats\n",
      "gurkovo found! Appending stats\n",
      "jardim found! Appending stats\n",
      "City not found\n",
      "kaitangata found! Appending stats\n",
      "potters bar found! Appending stats\n",
      "sicamous found! Appending stats\n",
      "lebu found! Appending stats\n",
      "jian found! Appending stats\n",
      "abidjan found! Appending stats\n",
      "bar harbor found! Appending stats\n",
      "zhigansk found! Appending stats\n",
      "margate found! Appending stats\n",
      "marsh harbour found! Appending stats\n",
      "luderitz found! Appending stats\n",
      "markivka found! Appending stats\n",
      "churapcha found! Appending stats\n",
      "los llanos de aridane found! Appending stats\n",
      "kamina found! Appending stats\n",
      "carnarvon found! Appending stats\n",
      "yuancheng found! Appending stats\n",
      "dunedin found! Appending stats\n",
      "constitucion found! Appending stats\n",
      "obidos found! Appending stats\n",
      "nabire found! Appending stats\n",
      "drayton valley found! Appending stats\n",
      "salym found! Appending stats\n",
      "atbasar found! Appending stats\n",
      "gamba found! Appending stats\n",
      "camabatela found! Appending stats\n",
      "dongkan found! Appending stats\n",
      "sri aman found! Appending stats\n",
      "jasper found! Appending stats\n",
      "kanniyakumari found! Appending stats\n",
      "nishihara found! Appending stats\n",
      "katsuura found! Appending stats\n",
      "shitanjing found! Appending stats\n",
      "lorengau found! Appending stats\n",
      "City not found\n",
      "karaton found! Appending stats\n",
      "ginda found! Appending stats\n",
      "emerald found! Appending stats\n",
      "mongomo found! Appending stats\n",
      "san patricio found! Appending stats\n",
      "benguela found! Appending stats\n",
      "coquimbo found! Appending stats\n",
      "pevek found! Appending stats\n",
      "City not found\n",
      "isangel found! Appending stats\n",
      "City not found\n",
      "lavras found! Appending stats\n",
      "sao joao da barra found! Appending stats\n",
      "necochea found! Appending stats\n",
      "morro bay found! Appending stats\n",
      "City not found\n",
      "talnakh found! Appending stats\n",
      "szczecinek found! Appending stats\n",
      "tezu found! Appending stats\n",
      "rio gallegos found! Appending stats\n",
      "tabora found! Appending stats\n",
      "nuuk found! Appending stats\n",
      "sawtell found! Appending stats\n",
      "caernarfon found! Appending stats\n",
      "oia found! Appending stats\n",
      "iqaluit found! Appending stats\n",
      "el sauce found! Appending stats\n",
      "bandarbeyla found! Appending stats\n",
      "moshny found! Appending stats\n",
      "southbridge found! Appending stats\n",
      "sosnovo-ozerskoye found! Appending stats\n",
      "gryazovets found! Appending stats\n",
      "usinsk found! Appending stats\n",
      "ipixuna found! Appending stats\n",
      "rawson found! Appending stats\n",
      "moindou found! Appending stats\n",
      "City not found\n",
      "longyan found! Appending stats\n",
      "victor harbor found! Appending stats\n",
      "vao found! Appending stats\n",
      "port augusta found! Appending stats\n",
      "tavda found! Appending stats\n",
      "severo-kurilsk found! Appending stats\n",
      "arcata found! Appending stats\n",
      "City not found\n",
      "City not found\n",
      "oranjemund found! Appending stats\n",
      "santiago de cao found! Appending stats\n",
      "City not found\n",
      "port elizabeth found! Appending stats\n",
      "pisco found! Appending stats\n",
      "havoysund found! Appending stats\n",
      "yagodnoye found! Appending stats\n",
      "vihari found! Appending stats\n",
      "geraldton found! Appending stats\n"
     ]
    },
    {
     "name": "stdout",
     "output_type": "stream",
     "text": [
      "camana found! Appending stats\n",
      "praia found! Appending stats\n",
      "vila franca do campo found! Appending stats\n",
      "sasina found! Appending stats\n",
      "seydi found! Appending stats\n",
      "la ronge found! Appending stats\n",
      "vigia del fuerte found! Appending stats\n",
      "ambatofinandrahana found! Appending stats\n",
      "souillac found! Appending stats\n",
      "laguna found! Appending stats\n",
      "christchurch found! Appending stats\n",
      "City not found\n",
      "klaksvik found! Appending stats\n",
      "taua found! Appending stats\n",
      "santa maria found! Appending stats\n",
      "bambous virieux found! Appending stats\n",
      "bozhou found! Appending stats\n",
      "chumikan found! Appending stats\n",
      "belaya gora found! Appending stats\n",
      "marzuq found! Appending stats\n",
      "hasaki found! Appending stats\n",
      "yalta found! Appending stats\n",
      "City not found\n",
      "sioux lookout found! Appending stats\n",
      "cap-aux-meules found! Appending stats\n",
      "el alto found! Appending stats\n",
      "port lincoln found! Appending stats\n",
      "college found! Appending stats\n",
      "revda found! Appending stats\n",
      "ambon found! Appending stats\n",
      "tarko-sale found! Appending stats\n",
      "saldanha found! Appending stats\n",
      "camacha found! Appending stats\n",
      "kavieng found! Appending stats\n",
      "cairns found! Appending stats\n",
      "beauchamps found! Appending stats\n",
      "yeppoon found! Appending stats\n",
      "juneau found! Appending stats\n",
      "basco found! Appending stats\n",
      "dapaong found! Appending stats\n",
      "narsaq found! Appending stats\n",
      "ust-nera found! Appending stats\n",
      "bunawan found! Appending stats\n",
      "svetlaya found! Appending stats\n",
      "City not found\n",
      "sal rei found! Appending stats\n",
      "ayan found! Appending stats\n",
      "syasstroy found! Appending stats\n",
      "krasnokamensk found! Appending stats\n",
      "cockburn town found! Appending stats\n",
      "pleasanton found! Appending stats\n",
      "nikolskoye found! Appending stats\n",
      "mamallapuram found! Appending stats\n",
      "poum found! Appending stats\n",
      "jieshi found! Appending stats\n",
      "oistins found! Appending stats\n",
      "whitehorse found! Appending stats\n",
      "port macquarie found! Appending stats\n",
      "panaba found! Appending stats\n",
      "ust-kulom found! Appending stats\n",
      "san carlos de bariloche found! Appending stats\n",
      "lewisporte found! Appending stats\n",
      "clyde river found! Appending stats\n",
      "nazca found! Appending stats\n",
      "sinnamary found! Appending stats\n",
      "luganville found! Appending stats\n",
      "skibbereen found! Appending stats\n",
      "coahuayana found! Appending stats\n",
      "booue found! Appending stats\n",
      "hay river found! Appending stats\n",
      "cherskiy found! Appending stats\n",
      "benghazi found! Appending stats\n",
      "iquitos found! Appending stats\n",
      "kovur found! Appending stats\n",
      "banavar found! Appending stats\n",
      "longyearbyen found! Appending stats\n",
      "City not found\n",
      "hangu found! Appending stats\n",
      "cayenne found! Appending stats\n",
      "olinda found! Appending stats\n",
      "kieta found! Appending stats\n",
      "bousso found! Appending stats\n",
      "gizo found! Appending stats\n",
      "jadu found! Appending stats\n",
      "prince albert found! Appending stats\n",
      "tshikapa found! Appending stats\n",
      "sur found! Appending stats\n",
      "portland found! Appending stats\n",
      "pointe-noire found! Appending stats\n",
      "santa rosa found! Appending stats\n",
      "mogadishu found! Appending stats\n",
      "City not found\n",
      "savonlinna found! Appending stats\n",
      "torbay found! Appending stats\n",
      "gayny found! Appending stats\n",
      "bolitoc found! Appending stats\n",
      "oxford found! Appending stats\n",
      "tuatapere found! Appending stats\n",
      "marawi found! Appending stats\n",
      "gaozhou found! Appending stats\n",
      "avarua found! Appending stats\n",
      "lazaro cardenas found! Appending stats\n",
      "saint-francois found! Appending stats\n",
      "havelock found! Appending stats\n",
      "seoul found! Appending stats\n",
      "richards bay found! Appending stats\n",
      "svencionys found! Appending stats\n",
      "salalah found! Appending stats\n",
      "manjacaze found! Appending stats\n",
      "grindavik found! Appending stats\n",
      "moron found! Appending stats\n",
      "biak found! Appending stats\n",
      "dhanaula found! Appending stats\n",
      "cabo san lucas found! Appending stats\n",
      "tigil found! Appending stats\n",
      "masuguru found! Appending stats\n",
      "puerto narino found! Appending stats\n",
      "apahida found! Appending stats\n",
      "hirara found! Appending stats\n",
      "tlacolula found! Appending stats\n",
      "gari found! Appending stats\n",
      "senneterre found! Appending stats\n",
      "sistranda found! Appending stats\n",
      "jaciara found! Appending stats\n",
      "arlit found! Appending stats\n",
      "mayumba found! Appending stats\n",
      "griffith found! Appending stats\n",
      "stepnyak found! Appending stats\n",
      "trogir found! Appending stats\n",
      "City not found\n",
      "agirish found! Appending stats\n",
      "dingle found! Appending stats\n",
      "alyangula found! Appending stats\n",
      "aljezur found! Appending stats\n",
      "kyrylivka found! Appending stats\n",
      "palmas found! Appending stats\n",
      "jinka found! Appending stats\n",
      "City not found\n",
      "soyo found! Appending stats\n",
      "angoche found! Appending stats\n",
      "hofn found! Appending stats\n",
      "husavik found! Appending stats\n",
      "bilibino found! Appending stats\n",
      "miyako found! Appending stats\n",
      "ulaangom found! Appending stats\n",
      "debre tabor found! Appending stats\n",
      "kasongo-lunda found! Appending stats\n",
      "barcelos found! Appending stats\n",
      "fenoarivo found! Appending stats\n",
      "bonavista found! Appending stats\n",
      "City not found\n",
      "krasnoselkup found! Appending stats\n",
      "pimentel found! Appending stats\n",
      "srandakan found! Appending stats\n",
      "vila velha found! Appending stats\n",
      "prince rupert found! Appending stats\n",
      "City not found\n",
      "huaibei found! Appending stats\n",
      "lalibela found! Appending stats\n",
      "saint-augustin found! Appending stats\n",
      "saint-louis found! Appending stats\n",
      "tesanjka found! Appending stats\n",
      "smalininkai found! Appending stats\n",
      "waycross found! Appending stats\n",
      "beringovskiy found! Appending stats\n",
      "vargem grande found! Appending stats\n",
      "caravelas found! Appending stats\n",
      "hattiesburg found! Appending stats\n",
      "walvis bay found! Appending stats\n",
      "jalu found! Appending stats\n",
      "fomboni found! Appending stats\n",
      "harboore found! Appending stats\n",
      "camacupa found! Appending stats\n",
      "haines junction found! Appending stats\n",
      "essenbach found! Appending stats\n",
      "qui nhon found! Appending stats\n",
      "nome found! Appending stats\n",
      "tautira found! Appending stats\n",
      "vardo found! Appending stats\n",
      "akyab found! Appending stats\n",
      "inuvik found! Appending stats\n",
      "tabou found! Appending stats\n",
      "City not found\n",
      "City not found\n",
      "esperance found! Appending stats\n",
      "hamilton found! Appending stats\n",
      "taoudenni found! Appending stats\n",
      "grand-lahou found! Appending stats\n",
      "terrace found! Appending stats\n",
      "richfield found! Appending stats\n",
      "padang found! Appending stats\n",
      "lasa found! Appending stats\n",
      "acajutla found! Appending stats\n",
      "waldheim found! Appending stats\n",
      "guerrero negro found! Appending stats\n",
      "san lorenzo de el escorial found! Appending stats\n",
      "sola found! Appending stats\n",
      "City not found\n",
      "City not found\n",
      "salinas found! Appending stats\n",
      "nata found! Appending stats\n",
      "nicholasville found! Appending stats\n",
      "kibre mengist found! Appending stats\n",
      "City not found\n",
      "yumen found! Appending stats\n",
      "City not found\n",
      "foumban found! Appending stats\n",
      "ocos found! Appending stats\n",
      "villa maria found! Appending stats\n",
      "mercedes found! Appending stats\n",
      "sao gabriel da cachoeira found! Appending stats\n",
      "celestun found! Appending stats\n",
      "atar found! Appending stats\n",
      "hobyo found! Appending stats\n",
      "ushtobe found! Appending stats\n",
      "mumford found! Appending stats\n",
      "guerande found! Appending stats\n",
      "tekanto found! Appending stats\n",
      "mundargi found! Appending stats\n",
      "gubkin found! Appending stats\n",
      "kaihua found! Appending stats\n",
      "ixtapa found! Appending stats\n",
      "aksarka found! Appending stats\n",
      "mabama found! Appending stats\n",
      "zwedru found! Appending stats\n",
      "tabuk found! Appending stats\n",
      "huarmey found! Appending stats\n",
      "alofi found! Appending stats\n",
      "ishigaki found! Appending stats\n",
      "ludvika found! Appending stats\n",
      "dalbandin found! Appending stats\n",
      "fayaoue found! Appending stats\n",
      "smolenka found! Appending stats\n",
      "kantunilkin found! Appending stats\n",
      "uray found! Appending stats\n",
      "paidha found! Appending stats\n",
      "pacific grove found! Appending stats\n",
      "kasongo found! Appending stats\n",
      "ballitoville found! Appending stats\n",
      "belmonte found! Appending stats\n",
      "manakara found! Appending stats\n",
      "cabrero found! Appending stats\n",
      "batticaloa found! Appending stats\n",
      "pierre found! Appending stats\n",
      "City not found\n",
      "naliya found! Appending stats\n",
      "shchelkun found! Appending stats\n",
      "kholmogory found! Appending stats\n",
      "nicoya found! Appending stats\n",
      "turbat found! Appending stats\n",
      "lunsar found! Appending stats\n",
      "codrington found! Appending stats\n",
      "zelenogorskiy found! Appending stats\n",
      "beloha found! Appending stats\n",
      "korgen found! Appending stats\n",
      "City not found\n",
      "sorong found! Appending stats\n",
      "sobolevo found! Appending stats\n",
      "nogliki found! Appending stats\n",
      "ardakan found! Appending stats\n",
      "carutapera found! Appending stats\n",
      "jaisalmer found! Appending stats\n",
      "pozo colorado found! Appending stats\n"
     ]
    },
    {
     "name": "stdout",
     "output_type": "stream",
     "text": [
      "ucluelet found! Appending stats\n",
      "hami found! Appending stats\n",
      "mahajanga found! Appending stats\n",
      "lata found! Appending stats\n",
      "sinop found! Appending stats\n",
      "pervomayskiy found! Appending stats\n",
      "fortuna found! Appending stats\n",
      "vestmannaeyjar found! Appending stats\n",
      "turka found! Appending stats\n",
      "urusha found! Appending stats\n",
      "oussouye found! Appending stats\n",
      "verkhnyaya inta found! Appending stats\n",
      "martapura found! Appending stats\n",
      "City not found\n",
      "ivanovka found! Appending stats\n",
      "City not found\n",
      "doha found! Appending stats\n",
      "ust-dzheguta found! Appending stats\n",
      "ascension found! Appending stats\n",
      "kavaratti found! Appending stats\n",
      "passo de camaragibe found! Appending stats\n",
      "domoni found! Appending stats\n",
      "stornoway found! Appending stats\n",
      "biabou found! Appending stats\n",
      "clonakilty found! Appending stats\n",
      "udachnyy found! Appending stats\n",
      "gushikawa found! Appending stats\n",
      "khasan found! Appending stats\n",
      "City not found\n",
      "honiara found! Appending stats\n",
      "City not found\n",
      "priiskovyy found! Appending stats\n",
      "mezen found! Appending stats\n",
      "goundam found! Appending stats\n",
      "great yarmouth found! Appending stats\n",
      "nioro found! Appending stats\n",
      "sydney found! Appending stats\n",
      "tura found! Appending stats\n",
      "thinadhoo found! Appending stats\n",
      "lakatoro found! Appending stats\n",
      "naduvattam found! Appending stats\n",
      "ankang found! Appending stats\n",
      "san antonio found! Appending stats\n",
      "pemangkat found! Appending stats\n",
      "palembang found! Appending stats\n",
      "santa cruz found! Appending stats\n",
      "minab found! Appending stats\n",
      "vieux-conde found! Appending stats\n",
      "kristiansund found! Appending stats\n",
      "cacu found! Appending stats\n",
      "san jose found! Appending stats\n",
      "ugoofaaru found! Appending stats\n",
      "avera found! Appending stats\n",
      "perez found! Appending stats\n",
      "betare oya found! Appending stats\n",
      "illapel found! Appending stats\n",
      "riwaka found! Appending stats\n",
      "senador jose porfirio found! Appending stats\n",
      "serenje found! Appending stats\n",
      "ponta delgada found! Appending stats\n",
      "City not found\n",
      "City not found\n",
      "tsaratanana found! Appending stats\n",
      "rundu found! Appending stats\n",
      "khed brahma found! Appending stats\n",
      "chipata found! Appending stats\n",
      "jinxiang found! Appending stats\n",
      "skjervoy found! Appending stats\n",
      "lewistown found! Appending stats\n",
      "north myrtle beach found! Appending stats\n",
      "svetlogorsk found! Appending stats\n",
      "aswan found! Appending stats\n",
      "constanta found! Appending stats\n",
      "korla found! Appending stats\n",
      "san juan de los morros found! Appending stats\n",
      "arman found! Appending stats\n",
      "kulhudhuffushi found! Appending stats\n",
      "daru found! Appending stats\n",
      "miandrivazo found! Appending stats\n",
      "cam ranh found! Appending stats\n"
     ]
    }
   ],
   "source": [
    "# Save config information\n",
    "url = \"http://api.openweathermap.org/data/2.5/weather?\"\n",
    "units = \"imperial\"\n",
    "\n",
    "# Build query URL\n",
    "query_url = url + \"appid=\" + api_key + \"&units=\" + units + \"&q=\" \n",
    "\n",
    "# Lists for holding information needed\n",
    "city_name = []\n",
    "latitude = []\n",
    "longitude = []\n",
    "max_temp = []\n",
    "humidity = []\n",
    "cloudiness = []\n",
    "wind_speed = []\n",
    "country = []\n",
    "date = []\n",
    "\n",
    "\n",
    "for i, city in enumerate(cities):\n",
    "    \n",
    "    try:\n",
    "        response = requests.get(query_url + city).json()\n",
    "        city_name.append(response['name'])\n",
    "        latitude.append(response[\"coord\"][\"lat\"])\n",
    "        longitude.append(response[\"coord\"][\"lon\"])\n",
    "        max_temp.append(response['main']['temp_max']) \n",
    "        humidity.append(response['main']['humidity'])\n",
    "        cloudiness.append(response['clouds']['all']) \n",
    "        wind_speed.append(response['wind']['speed']) \n",
    "        country.append(response['sys']['country']) \n",
    "        date.append(response['dt']) \n",
    "        print(f\"Record #{i} found: {city}\")\n",
    "    \n",
    "    except:\n",
    "        print(\"City not found\")\n",
    "        pass"
   ]
  },
  {
   "cell_type": "markdown",
   "metadata": {},
   "source": [
    "### Convert Raw Data to DataFrame\n",
    "* Export the city data into a .csv.\n",
    "* Display the DataFrame"
   ]
  },
  {
   "cell_type": "code",
   "execution_count": 18,
   "metadata": {},
   "outputs": [
    {
     "data": {
      "text/html": [
       "<div>\n",
       "<style scoped>\n",
       "    .dataframe tbody tr th:only-of-type {\n",
       "        vertical-align: middle;\n",
       "    }\n",
       "\n",
       "    .dataframe tbody tr th {\n",
       "        vertical-align: top;\n",
       "    }\n",
       "\n",
       "    .dataframe thead th {\n",
       "        text-align: right;\n",
       "    }\n",
       "</style>\n",
       "<table border=\"1\" class=\"dataframe\">\n",
       "  <thead>\n",
       "    <tr style=\"text-align: right;\">\n",
       "      <th></th>\n",
       "      <th>City</th>\n",
       "      <th>Lat</th>\n",
       "      <th>Lng</th>\n",
       "      <th>Max Temp</th>\n",
       "      <th>Humidity</th>\n",
       "      <th>Cloudiness</th>\n",
       "      <th>Wind Speed</th>\n",
       "      <th>Country</th>\n",
       "      <th>Date</th>\n",
       "    </tr>\n",
       "  </thead>\n",
       "  <tbody>\n",
       "    <tr>\n",
       "      <th>0</th>\n",
       "      <td>Rikitea</td>\n",
       "      <td>-23.1203</td>\n",
       "      <td>-134.9692</td>\n",
       "      <td>76.03</td>\n",
       "      <td>79</td>\n",
       "      <td>100</td>\n",
       "      <td>12.64</td>\n",
       "      <td>PF</td>\n",
       "      <td>1623514619</td>\n",
       "    </tr>\n",
       "    <tr>\n",
       "      <th>1</th>\n",
       "      <td>Flinders</td>\n",
       "      <td>-34.5833</td>\n",
       "      <td>150.8552</td>\n",
       "      <td>56.17</td>\n",
       "      <td>65</td>\n",
       "      <td>1</td>\n",
       "      <td>8.01</td>\n",
       "      <td>AU</td>\n",
       "      <td>1623514889</td>\n",
       "    </tr>\n",
       "    <tr>\n",
       "      <th>2</th>\n",
       "      <td>Kruisfontein</td>\n",
       "      <td>-34.0033</td>\n",
       "      <td>24.7314</td>\n",
       "      <td>60.89</td>\n",
       "      <td>73</td>\n",
       "      <td>100</td>\n",
       "      <td>3.27</td>\n",
       "      <td>ZA</td>\n",
       "      <td>1623514620</td>\n",
       "    </tr>\n",
       "    <tr>\n",
       "      <th>3</th>\n",
       "      <td>Bathsheba</td>\n",
       "      <td>13.2167</td>\n",
       "      <td>-59.5167</td>\n",
       "      <td>88.41</td>\n",
       "      <td>55</td>\n",
       "      <td>40</td>\n",
       "      <td>17.27</td>\n",
       "      <td>BB</td>\n",
       "      <td>1623514889</td>\n",
       "    </tr>\n",
       "    <tr>\n",
       "      <th>4</th>\n",
       "      <td>Albany</td>\n",
       "      <td>42.6001</td>\n",
       "      <td>-73.9662</td>\n",
       "      <td>73.89</td>\n",
       "      <td>74</td>\n",
       "      <td>97</td>\n",
       "      <td>2.39</td>\n",
       "      <td>US</td>\n",
       "      <td>1623514411</td>\n",
       "    </tr>\n",
       "  </tbody>\n",
       "</table>\n",
       "</div>"
      ],
      "text/plain": [
       "           City      Lat       Lng  Max Temp  Humidity  Cloudiness  \\\n",
       "0       Rikitea -23.1203 -134.9692     76.03        79         100   \n",
       "1      Flinders -34.5833  150.8552     56.17        65           1   \n",
       "2  Kruisfontein -34.0033   24.7314     60.89        73         100   \n",
       "3     Bathsheba  13.2167  -59.5167     88.41        55          40   \n",
       "4        Albany  42.6001  -73.9662     73.89        74          97   \n",
       "\n",
       "   Wind Speed Country        Date  \n",
       "0       12.64      PF  1623514619  \n",
       "1        8.01      AU  1623514889  \n",
       "2        3.27      ZA  1623514620  \n",
       "3       17.27      BB  1623514889  \n",
       "4        2.39      US  1623514411  "
      ]
     },
     "execution_count": 18,
     "metadata": {},
     "output_type": "execute_result"
    }
   ],
   "source": [
    "weather_data = pd.DataFrame({\n",
    "    'City': city_name,\n",
    "    'Lat': latitude,\n",
    "    'Lng': longitude,\n",
    "    'Max Temp': max_temp,\n",
    "    'Humidity': humidity,\n",
    "    'Cloudiness': cloudiness,\n",
    "    'Wind Speed' : wind_speed,\n",
    "    'Country': country, \n",
    "    'Date':date \n",
    "})\n",
    "\n",
    "weather_data.head(5)"
   ]
  },
  {
   "cell_type": "code",
   "execution_count": 21,
   "metadata": {},
   "outputs": [],
   "source": [
    "# Create csv\n",
    "weather_data.to_csv('results/weather_data.csv', index = False)"
   ]
  },
  {
   "cell_type": "code",
   "execution_count": 22,
   "metadata": {},
   "outputs": [
    {
     "data": {
      "text/html": [
       "<div>\n",
       "<style scoped>\n",
       "    .dataframe tbody tr th:only-of-type {\n",
       "        vertical-align: middle;\n",
       "    }\n",
       "\n",
       "    .dataframe tbody tr th {\n",
       "        vertical-align: top;\n",
       "    }\n",
       "\n",
       "    .dataframe thead th {\n",
       "        text-align: right;\n",
       "    }\n",
       "</style>\n",
       "<table border=\"1\" class=\"dataframe\">\n",
       "  <thead>\n",
       "    <tr style=\"text-align: right;\">\n",
       "      <th></th>\n",
       "      <th>Lat</th>\n",
       "      <th>Lng</th>\n",
       "      <th>Max Temp</th>\n",
       "      <th>Humidity</th>\n",
       "      <th>Cloudiness</th>\n",
       "      <th>Wind Speed</th>\n",
       "      <th>Date</th>\n",
       "    </tr>\n",
       "  </thead>\n",
       "  <tbody>\n",
       "    <tr>\n",
       "      <th>count</th>\n",
       "      <td>565.000000</td>\n",
       "      <td>565.000000</td>\n",
       "      <td>565.000000</td>\n",
       "      <td>565.000000</td>\n",
       "      <td>565.000000</td>\n",
       "      <td>565.000000</td>\n",
       "      <td>5.650000e+02</td>\n",
       "    </tr>\n",
       "    <tr>\n",
       "      <th>mean</th>\n",
       "      <td>19.723279</td>\n",
       "      <td>20.608821</td>\n",
       "      <td>70.397044</td>\n",
       "      <td>68.587611</td>\n",
       "      <td>58.309735</td>\n",
       "      <td>7.614602</td>\n",
       "      <td>1.623515e+09</td>\n",
       "    </tr>\n",
       "    <tr>\n",
       "      <th>std</th>\n",
       "      <td>33.145961</td>\n",
       "      <td>89.898970</td>\n",
       "      <td>14.898187</td>\n",
       "      <td>19.600754</td>\n",
       "      <td>37.895405</td>\n",
       "      <td>5.350018</td>\n",
       "      <td>1.210098e+02</td>\n",
       "    </tr>\n",
       "    <tr>\n",
       "      <th>min</th>\n",
       "      <td>-54.800000</td>\n",
       "      <td>-175.200000</td>\n",
       "      <td>30.220000</td>\n",
       "      <td>3.000000</td>\n",
       "      <td>0.000000</td>\n",
       "      <td>0.000000</td>\n",
       "      <td>1.623514e+09</td>\n",
       "    </tr>\n",
       "    <tr>\n",
       "      <th>25%</th>\n",
       "      <td>-6.884400</td>\n",
       "      <td>-57.533300</td>\n",
       "      <td>60.350000</td>\n",
       "      <td>58.000000</td>\n",
       "      <td>20.000000</td>\n",
       "      <td>3.960000</td>\n",
       "      <td>1.623514e+09</td>\n",
       "    </tr>\n",
       "    <tr>\n",
       "      <th>50%</th>\n",
       "      <td>21.461200</td>\n",
       "      <td>23.750000</td>\n",
       "      <td>72.860000</td>\n",
       "      <td>72.000000</td>\n",
       "      <td>75.000000</td>\n",
       "      <td>6.460000</td>\n",
       "      <td>1.623515e+09</td>\n",
       "    </tr>\n",
       "    <tr>\n",
       "      <th>75%</th>\n",
       "      <td>49.154100</td>\n",
       "      <td>102.265500</td>\n",
       "      <td>80.940000</td>\n",
       "      <td>82.000000</td>\n",
       "      <td>95.000000</td>\n",
       "      <td>9.930000</td>\n",
       "      <td>1.623515e+09</td>\n",
       "    </tr>\n",
       "    <tr>\n",
       "      <th>max</th>\n",
       "      <td>78.218600</td>\n",
       "      <td>179.316700</td>\n",
       "      <td>113.650000</td>\n",
       "      <td>100.000000</td>\n",
       "      <td>100.000000</td>\n",
       "      <td>36.820000</td>\n",
       "      <td>1.623515e+09</td>\n",
       "    </tr>\n",
       "  </tbody>\n",
       "</table>\n",
       "</div>"
      ],
      "text/plain": [
       "              Lat         Lng    Max Temp    Humidity  Cloudiness  Wind Speed  \\\n",
       "count  565.000000  565.000000  565.000000  565.000000  565.000000  565.000000   \n",
       "mean    19.723279   20.608821   70.397044   68.587611   58.309735    7.614602   \n",
       "std     33.145961   89.898970   14.898187   19.600754   37.895405    5.350018   \n",
       "min    -54.800000 -175.200000   30.220000    3.000000    0.000000    0.000000   \n",
       "25%     -6.884400  -57.533300   60.350000   58.000000   20.000000    3.960000   \n",
       "50%     21.461200   23.750000   72.860000   72.000000   75.000000    6.460000   \n",
       "75%     49.154100  102.265500   80.940000   82.000000   95.000000    9.930000   \n",
       "max     78.218600  179.316700  113.650000  100.000000  100.000000   36.820000   \n",
       "\n",
       "               Date  \n",
       "count  5.650000e+02  \n",
       "mean   1.623515e+09  \n",
       "std    1.210098e+02  \n",
       "min    1.623514e+09  \n",
       "25%    1.623514e+09  \n",
       "50%    1.623515e+09  \n",
       "75%    1.623515e+09  \n",
       "max    1.623515e+09  "
      ]
     },
     "execution_count": 22,
     "metadata": {},
     "output_type": "execute_result"
    }
   ],
   "source": [
    "weather_data.describe()"
   ]
  },
  {
   "cell_type": "markdown",
   "metadata": {},
   "source": [
    "## Inspect the data and remove the cities where the humidity > 100%.\n",
    "----\n",
    "Skip this step if there are no cities that have humidity > 100%. "
   ]
  },
  {
   "cell_type": "code",
   "execution_count": 26,
   "metadata": {},
   "outputs": [
    {
     "data": {
      "text/html": [
       "<div>\n",
       "<style scoped>\n",
       "    .dataframe tbody tr th:only-of-type {\n",
       "        vertical-align: middle;\n",
       "    }\n",
       "\n",
       "    .dataframe tbody tr th {\n",
       "        vertical-align: top;\n",
       "    }\n",
       "\n",
       "    .dataframe thead th {\n",
       "        text-align: right;\n",
       "    }\n",
       "</style>\n",
       "<table border=\"1\" class=\"dataframe\">\n",
       "  <thead>\n",
       "    <tr style=\"text-align: right;\">\n",
       "      <th></th>\n",
       "      <th>City</th>\n",
       "      <th>Lat</th>\n",
       "      <th>Lng</th>\n",
       "      <th>Max Temp</th>\n",
       "      <th>Humidity</th>\n",
       "      <th>Cloudiness</th>\n",
       "      <th>Wind Speed</th>\n",
       "      <th>Country</th>\n",
       "      <th>Date</th>\n",
       "    </tr>\n",
       "  </thead>\n",
       "  <tbody>\n",
       "  </tbody>\n",
       "</table>\n",
       "</div>"
      ],
      "text/plain": [
       "Empty DataFrame\n",
       "Columns: [City, Lat, Lng, Max Temp, Humidity, Cloudiness, Wind Speed, Country, Date]\n",
       "Index: []"
      ]
     },
     "execution_count": 26,
     "metadata": {},
     "output_type": "execute_result"
    }
   ],
   "source": [
    "humidity_check = weather_data[weather_data[\"Humidity\"] > 100]\n",
    "humidity_check"
   ]
  },
  {
   "cell_type": "markdown",
   "metadata": {},
   "source": [
    "Since there are no cities with humidity > 100% I will skip this step."
   ]
  },
  {
   "cell_type": "markdown",
   "metadata": {},
   "source": [
    "## Plotting the Data\n",
    "* Use proper labeling of the plots using plot titles (including date of analysis) and axes labels.\n",
    "* Save the plotted figures as .pngs."
   ]
  },
  {
   "cell_type": "markdown",
   "metadata": {},
   "source": [
    "## Latitude vs. Temperature Plot"
   ]
  },
  {
   "cell_type": "code",
   "execution_count": 27,
   "metadata": {
    "scrolled": true
   },
   "outputs": [
    {
     "data": {
      "image/png": "[encoded data removed]",
      "text/plain": [
       "<Figure size 432x288 with 1 Axes>"
      ]
     },
     "metadata": {
      "needs_background": "light"
     },
     "output_type": "display_data"
    }
   ],
   "source": [
    "# Build a scatter plot for each data type\n",
    "plt.scatter(weather_data[\"Lat\"], weather_data[\"Max Temp\"], marker=\"o\")\n",
    "\n",
    "# Incorporate the other graph properties\n",
    "plt.title(\"City Latitude vs. Max Temperature (04/01/20)\")\n",
    "plt.ylabel(\"Max Temperature (F)\")\n",
    "plt.xlabel(\"Latitude\")\n",
    "plt.grid(True)\n",
    "\n",
    "# Save the figure\n",
    "plt.savefig(\"results/Latitude vs Max Temperature.png\")\n",
    "\n",
    "# Show plot\n",
    "plt.show()"
   ]
  },
  {
   "cell_type": "markdown",
   "metadata": {},
   "source": [
    "In this graph we can observe that the temperature is higher as the latitude gets closer to 0."
   ]
  },
  {
   "cell_type": "markdown",
   "metadata": {},
   "source": [
    "## Latitude vs. Humidity Plot"
   ]
  },
  {
   "cell_type": "code",
   "execution_count": 28,
   "metadata": {},
   "outputs": [
    {
     "data": {
      "image/png": "[encoded data removed]",
      "text/plain": [
       "<Figure size 432x288 with 1 Axes>"
      ]
     },
     "metadata": {
      "needs_background": "light"
     },
     "output_type": "display_data"
    }
   ],
   "source": [
    "# Build a scatter plot for each data type\n",
    "plt.scatter(weather_data[\"Lat\"], weather_data[\"Humidity\"], marker=\"o\")\n",
    "\n",
    "# Incorporate the other graph properties\n",
    "plt.title(\"City Latitude vs. Humidity (04/01/20)\")\n",
    "plt.ylabel(\"Humidity (%))\")\n",
    "plt.xlabel(\"Latitude\")\n",
    "plt.grid(True)\n",
    "\n",
    "# Save the figure\n",
    "plt.savefig(\"results/Latitude vs Humidity.png\")\n",
    "\n",
    "# Show plot\n",
    "plt.show()"
   ]
  },
  {
   "cell_type": "markdown",
   "metadata": {},
   "source": [
    "We can't observe a clear relationship between Latitude and Humidity. We can say that most countries have more than 40% of humidity accross all latitude."
   ]
  },
  {
   "cell_type": "markdown",
   "metadata": {},
   "source": [
    "## Latitude vs. Cloudiness Plot"
   ]
  },
  {
   "cell_type": "code",
   "execution_count": 30,
   "metadata": {},
   "outputs": [
    {
     "data": {
      "image/png": "[encoded data removed]",
      "text/plain": [
       "<Figure size 432x288 with 1 Axes>"
      ]
     },
     "metadata": {
      "needs_background": "light"
     },
     "output_type": "display_data"
    }
   ],
   "source": [
    "# Build a scatter plot for each data type\n",
    "plt.scatter(weather_data[\"Lat\"], weather_data[\"Cloudiness\"], marker=\"o\")\n",
    "\n",
    "# Incorporate the other graph properties\n",
    "plt.title(\"City Latitude vs. Cloudiness (04/01/20)\")\n",
    "plt.ylabel(\"Cloudiness (%)\")\n",
    "plt.xlabel(\"Latitude\")\n",
    "plt.grid(True)\n",
    "\n",
    "# Save the figure\n",
    "plt.savefig(\"results/Latitude vs Cloudiness.png\")\n",
    "\n",
    "# Show plot\n",
    "plt.show()"
   ]
  },
  {
   "cell_type": "markdown",
   "metadata": {},
   "source": [
    "We can't observe a pretty clear pattern between latitude and cloudiness, we can mildly observe that cloudiness percentage tends to be very extreme."
   ]
  },
  {
   "cell_type": "markdown",
   "metadata": {},
   "source": [
    "## Latitude vs. Wind Speed Plot"
   ]
  },
  {
   "cell_type": "code",
   "execution_count": 32,
   "metadata": {},
   "outputs": [
    {
     "data": {
      "image/png": "[encoded data removed]",
      "text/plain": [
       "<Figure size 432x288 with 1 Axes>"
      ]
     },
     "metadata": {
      "needs_background": "light"
     },
     "output_type": "display_data"
    }
   ],
   "source": [
    "# Build a scatter plot for each data type\n",
    "plt.scatter(weather_data[\"Lat\"], weather_data[\"Wind Speed\"], marker=\"o\")\n",
    "\n",
    "# Incorporate the other graph properties\n",
    "plt.title(\"City Latitude vs. Wind Speed (04/01/20)\")\n",
    "plt.ylabel(\"Wind Speed (mph)\")\n",
    "plt.xlabel(\"Latitude\")\n",
    "plt.grid(True)\n",
    "\n",
    "# Save the figure\n",
    "plt.savefig(\"results/Latitude vs Wind Speed.png\")\n",
    "\n",
    "# Show plot\n",
    "plt.show()"
   ]
  },
  {
   "cell_type": "markdown",
   "metadata": {},
   "source": [
    "We can observe that wind speed tends to be lower than 25 mph regardless of the latitude."
   ]
  },
  {
   "cell_type": "markdown",
   "metadata": {},
   "source": [
    "## Linear Regression"
   ]
  },
  {
   "cell_type": "code",
   "execution_count": 47,
   "metadata": {},
   "outputs": [],
   "source": [
    "# Identify Northern and Southern hemisphere data\n",
    "northern = weather_data[weather_data[\"Lat\"] >= 0]\n",
    "southern = weather_data[weather_data[\"Lat\"] < 0]"
   ]
  },
  {
   "cell_type": "markdown",
   "metadata": {},
   "source": [
    "####  Northern Hemisphere - Max Temp vs. Latitude Linear Regression"
   ]
  },
  {
   "cell_type": "code",
   "execution_count": 48,
   "metadata": {},
   "outputs": [
    {
     "name": "stdout",
     "output_type": "stream",
     "text": [
      "The r-value is: 0.5421784479220704\n"
     ]
    },
    {
     "data": {
      "image/png": "[encoded data removed]",
      "text/plain": [
       "<Figure size 432x288 with 1 Axes>"
      ]
     },
     "metadata": {
      "needs_background": "light"
     },
     "output_type": "display_data"
    }
   ],
   "source": [
    "x_values = northern['Lat']\n",
    "y_values = northern['Max Temp']\n",
    "(slope, intercept, rvalue, pvalue, stderr) = linregress(x_values, y_values)\n",
    "\n",
    "regress_values = x_values * slope + intercept\n",
    "\n",
    "line_eq = \"y = \" + str(round(slope,2)) + \"x +\" + str(round(intercept,2))\n",
    "\n",
    "plt.scatter(x_values, y_values)\n",
    "plt.plot(x_values, regress_values, \"r-\")\n",
    "\n",
    "plt.title(\"Northern Hemisphere - Max Temp vs. Latitude Linear Regression\")\n",
    "plt.xlabel(\"Latitude\")\n",
    "plt.ylabel(\"Max Temp\")\n",
    "\n",
    "#Print r squared value\n",
    "print(f\"The r-value is: {rvalue**2}\")\n",
    "\n",
    "#Save the plot and show it\n",
    "plt.savefig(\"results/Northern Latitude vs Max Temp.png\")\n",
    "plt.show()\n"
   ]
  },
  {
   "cell_type": "markdown",
   "metadata": {},
   "source": [
    "####  Southern Hemisphere - Max Temp vs. Latitude Linear Regression"
   ]
  },
  {
   "cell_type": "code",
   "execution_count": 49,
   "metadata": {},
   "outputs": [
    {
     "name": "stdout",
     "output_type": "stream",
     "text": [
      "The r-value is: 0.638444196089672\n"
     ]
    },
    {
     "data": {
      "image/png": "[encoded data removed]",
      "text/plain": [
       "<Figure size 432x288 with 1 Axes>"
      ]
     },
     "metadata": {
      "needs_background": "light"
     },
     "output_type": "display_data"
    }
   ],
   "source": [
    "x_values = southern['Lat']\n",
    "y_values = southern['Max Temp']\n",
    "(slope, intercept, rvalue, pvalue, stderr) = linregress(x_values, y_values)\n",
    "\n",
    "regress_values = x_values * slope + intercept\n",
    "\n",
    "line_eq = \"y = \" + str(round(slope,2)) + \"x +\" + str(round(intercept,2))\n",
    "\n",
    "plt.scatter(x_values, y_values)\n",
    "plt.plot(x_values, regress_values, \"r-\")\n",
    "\n",
    "plt.title(\"Southern Hemisphere - Max Temp vs. Latitude Linear Regression\")\n",
    "plt.xlabel(\"Latitude\")\n",
    "plt.ylabel(\"Max Temp\")\n",
    "\n",
    "#Print r squared value\n",
    "print(f\"The r-value is: {rvalue**2}\")\n",
    "\n",
    "#Save the plot and show it\n",
    "plt.savefig(\"results/Southern Latitude vs Max Temp.png\")\n",
    "plt.show()"
   ]
  },
  {
   "cell_type": "markdown",
   "metadata": {},
   "source": [
    "We can observe that the relatioship between latitude and max temperature is negative for the northern hemisphere countries, while is positive for the southern hemisphere countries. So we can confirm that as the latitude approaches to zero the temperature tends to be higher. "
   ]
  },
  {
   "cell_type": "markdown",
   "metadata": {},
   "source": [
    "####  Northern Hemisphere - Humidity (%) vs. Latitude Linear Regression"
   ]
  },
  {
   "cell_type": "code",
   "execution_count": 51,
   "metadata": {},
   "outputs": [
    {
     "name": "stdout",
     "output_type": "stream",
     "text": [
      "The r-value is: 0.00028565635040305566\n"
     ]
    },
    {
     "data": {
      "image/png": "[encoded data removed]",
      "text/plain": [
       "<Figure size 432x288 with 1 Axes>"
      ]
     },
     "metadata": {
      "needs_background": "light"
     },
     "output_type": "display_data"
    }
   ],
   "source": [
    "x_values = northern['Lat']\n",
    "y_values = northern['Humidity']\n",
    "(slope, intercept, rvalue, pvalue, stderr) = linregress(x_values, y_values)\n",
    "\n",
    "regress_values = x_values * slope + intercept\n",
    "\n",
    "line_eq = \"y = \" + str(round(slope,2)) + \"x +\" + str(round(intercept,2))\n",
    "\n",
    "plt.scatter(x_values, y_values)\n",
    "plt.plot(x_values, regress_values, \"r-\")\n",
    "\n",
    "plt.title(\"Northern Hemisphere - Humidity vs. Latitude Linear Regression\")\n",
    "plt.xlabel(\"Latitude\")\n",
    "plt.ylabel(\"Humidity\")\n",
    "\n",
    "#Print r squared value\n",
    "print(f\"The r-value is: {rvalue**2}\")\n",
    "\n",
    "#Save the plot and show it\n",
    "plt.savefig(\"results/Northern Latitude vs Humidity.png\")\n",
    "plt.show()"
   ]
  },
  {
   "cell_type": "markdown",
   "metadata": {},
   "source": [
    "####  Southern Hemisphere - Humidity (%) vs. Latitude Linear Regression"
   ]
  },
  {
   "cell_type": "code",
   "execution_count": 52,
   "metadata": {},
   "outputs": [
    {
     "name": "stdout",
     "output_type": "stream",
     "text": [
      "The r-value is: 0.010124028442353373\n"
     ]
    },
    {
     "data": {
      "image/png": "[encoded data removed]",
      "text/plain": [
       "<Figure size 432x288 with 1 Axes>"
      ]
     },
     "metadata": {
      "needs_background": "light"
     },
     "output_type": "display_data"
    }
   ],
   "source": [
    "x_values = southern['Lat']\n",
    "y_values = southern['Humidity']\n",
    "(slope, intercept, rvalue, pvalue, stderr) = linregress(x_values, y_values)\n",
    "\n",
    "regress_values = x_values * slope + intercept\n",
    "\n",
    "line_eq = \"y = \" + str(round(slope,2)) + \"x +\" + str(round(intercept,2))\n",
    "\n",
    "plt.scatter(x_values, y_values)\n",
    "plt.plot(x_values, regress_values, \"r-\")\n",
    "\n",
    "plt.title(\"Southern Hemisphere - Humidity vs. Latitude Linear Regression\")\n",
    "plt.xlabel(\"Latitude\")\n",
    "plt.ylabel(\"Humidity\")\n",
    "\n",
    "#Print r squared value\n",
    "print(f\"The r-value is: {rvalue**2}\")\n",
    "\n",
    "#Save the plot and show it\n",
    "plt.savefig(\"results/Southern Latitude vs Humidity .png\")\n",
    "plt.show()"
   ]
  },
  {
   "cell_type": "markdown",
   "metadata": {},
   "source": [
    "Since the r-values are close to zero we can conclude that there is not really a relationship between Latitude and Humidity."
   ]
  },
  {
   "cell_type": "markdown",
   "metadata": {},
   "source": [
    "####  Northern Hemisphere - Cloudiness (%) vs. Latitude Linear Regression"
   ]
  },
  {
   "cell_type": "code",
   "execution_count": 53,
   "metadata": {},
   "outputs": [
    {
     "name": "stdout",
     "output_type": "stream",
     "text": [
      "The r-value is: 0.015895468793643487\n"
     ]
    },
    {
     "data": {
      "image/png": "[encoded data removed]",
      "text/plain": [
       "<Figure size 432x288 with 1 Axes>"
      ]
     },
     "metadata": {
      "needs_background": "light"
     },
     "output_type": "display_data"
    }
   ],
   "source": [
    "x_values = northern['Lat']\n",
    "y_values = northern['Cloudiness']\n",
    "(slope, intercept, rvalue, pvalue, stderr) = linregress(x_values, y_values)\n",
    "\n",
    "regress_values = x_values * slope + intercept\n",
    "\n",
    "line_eq = \"y = \" + str(round(slope,2)) + \"x +\" + str(round(intercept,2))\n",
    "\n",
    "plt.scatter(x_values, y_values)\n",
    "plt.plot(x_values, regress_values, \"r-\")\n",
    "\n",
    "plt.title(\"Northern Hemisphere - Cloudiness vs. Latitude Linear Regression\")\n",
    "plt.xlabel(\"Latitude\")\n",
    "plt.ylabel(\"Cloudiness\")\n",
    "\n",
    "#Print r squared value\n",
    "print(f\"The r-value is: {rvalue**2}\")\n",
    "\n",
    "#Save the plot and show it\n",
    "plt.savefig(\"results/Northern Latitude vs Cloudiness.png\")\n",
    "plt.show()"
   ]
  },
  {
   "cell_type": "markdown",
   "metadata": {},
   "source": [
    "####  Southern Hemisphere - Cloudiness (%) vs. Latitude Linear Regression"
   ]
  },
  {
   "cell_type": "code",
   "execution_count": 54,
   "metadata": {},
   "outputs": [
    {
     "name": "stdout",
     "output_type": "stream",
     "text": [
      "The r-value is: 0.013559220691557267\n"
     ]
    },
    {
     "data": {
      "image/png": "[encoded data removed]",
      "text/plain": [
       "<Figure size 432x288 with 1 Axes>"
      ]
     },
     "metadata": {
      "needs_background": "light"
     },
     "output_type": "display_data"
    }
   ],
   "source": [
    "x_values = southern['Lat']\n",
    "y_values = southern['Cloudiness']\n",
    "(slope, intercept, rvalue, pvalue, stderr) = linregress(x_values, y_values)\n",
    "\n",
    "regress_values = x_values * slope + intercept\n",
    "\n",
    "line_eq = \"y = \" + str(round(slope,2)) + \"x +\" + str(round(intercept,2))\n",
    "\n",
    "plt.scatter(x_values, y_values)\n",
    "plt.plot(x_values, regress_values, \"r-\")\n",
    "\n",
    "plt.title(\"Southern Hemisphere - Cloudiness vs. Latitude Linear Regression\")\n",
    "plt.xlabel(\"Latitude\")\n",
    "plt.ylabel(\"Cloudiness\")\n",
    "\n",
    "#Print r squared value\n",
    "print(f\"The r-value is: {rvalue**2}\")\n",
    "\n",
    "#Save the plot and show it\n",
    "plt.savefig(\"results/Southern Latitude vs Cloudiness .png\")\n",
    "plt.show()"
   ]
  },
  {
   "cell_type": "markdown",
   "metadata": {},
   "source": [
    "According to the r-values we can reaffirm that there is not a clear relationship between Latitude and Cloudiness. "
   ]
  },
  {
   "cell_type": "markdown",
   "metadata": {},
   "source": [
    "####  Northern Hemisphere - Wind Speed (mph) vs. Latitude Linear Regression"
   ]
  },
  {
   "cell_type": "code",
   "execution_count": 55,
   "metadata": {},
   "outputs": [
    {
     "name": "stdout",
     "output_type": "stream",
     "text": [
      "The r-value is: 0.0002802525550755958\n"
     ]
    },
    {
     "data": {
      "image/png": "[encoded data removed]",
      "text/plain": [
       "<Figure size 432x288 with 1 Axes>"
      ]
     },
     "metadata": {
      "needs_background": "light"
     },
     "output_type": "display_data"
    }
   ],
   "source": [
    "x_values = northern['Lat']\n",
    "y_values = northern['Wind Speed']\n",
    "(slope, intercept, rvalue, pvalue, stderr) = linregress(x_values, y_values)\n",
    "\n",
    "regress_values = x_values * slope + intercept\n",
    "\n",
    "line_eq = \"y = \" + str(round(slope,2)) + \"x +\" + str(round(intercept,2))\n",
    "\n",
    "plt.scatter(x_values, y_values)\n",
    "plt.plot(x_values, regress_values, \"r-\")\n",
    "\n",
    "plt.title(\"Northern Hemisphere - Wind Speed vs. Latitude Linear Regression\")\n",
    "plt.xlabel(\"Latitude\")\n",
    "plt.ylabel(\"Wind Speed\")\n",
    "\n",
    "#Print r squared value\n",
    "print(f\"The r-value is: {rvalue**2}\")\n",
    "\n",
    "#Save the plot and show it\n",
    "plt.savefig(\"results/Northern Latitude vs Wind Speed.png\")\n",
    "plt.show()"
   ]
  },
  {
   "cell_type": "markdown",
   "metadata": {},
   "source": [
    "####  Southern Hemisphere - Wind Speed (mph) vs. Latitude Linear Regression"
   ]
  },
  {
   "cell_type": "code",
   "execution_count": 56,
   "metadata": {},
   "outputs": [
    {
     "name": "stdout",
     "output_type": "stream",
     "text": [
      "The r-value is: 0.02189477363646391\n"
     ]
    },
    {
     "data": {
      "image/png": "[encoded data removed]",
      "text/plain": [
       "<Figure size 432x288 with 1 Axes>"
      ]
     },
     "metadata": {
      "needs_background": "light"
     },
     "output_type": "display_data"
    }
   ],
   "source": [
    "x_values = southern['Lat']\n",
    "y_values = southern['Wind Speed']\n",
    "(slope, intercept, rvalue, pvalue, stderr) = linregress(x_values, y_values)\n",
    "\n",
    "regress_values = x_values * slope + intercept\n",
    "\n",
    "line_eq = \"y = \" + str(round(slope,2)) + \"x +\" + str(round(intercept,2))\n",
    "\n",
    "plt.scatter(x_values, y_values)\n",
    "plt.plot(x_values, regress_values, \"r-\")\n",
    "\n",
    "plt.title(\"Southern Hemisphere - Wind Speed vs. Latitude Linear Regression\")\n",
    "plt.xlabel(\"Latitude\")\n",
    "plt.ylabel(\"Wind Speed\")\n",
    "\n",
    "#Print r squared value\n",
    "print(f\"The r-value is: {rvalue**2}\")\n",
    "\n",
    "#Save the plot and show it\n",
    "plt.savefig(\"results/Southern Latitude vs Wind Speed .png\")\n",
    "plt.show()"
   ]
  },
  {
   "cell_type": "markdown",
   "metadata": {},
   "source": [
    "The r-values are pretty close to zero, so we cannot find a relationship between Latitude and Wind Speed."
   ]
  }
 ],
 "metadata": {
  "anaconda-cloud": {},
  "kernel_info": {
   "name": "python3"
  },
  "kernelspec": {
   "display_name": "Python 3",
   "language": "python",
   "name": "python3"
  },
  "latex_envs": {
   "LaTeX_envs_menu_present": true,
   "autoclose": false,
   "autocomplete": true,
   "bibliofile": "biblio.bib",
   "cite_by": "apalike",
   "current_citInitial": 1,
   "eqLabelWithNumbers": true,
   "eqNumInitial": 1,
   "hotkeys": {
    "equation": "Ctrl-E",
    "itemize": "Ctrl-I"
   },
   "labels_anchors": false,
   "latex_user_defs": false,
   "report_style_numbering": false,
   "user_envs_cfg": false
  },
  "nteract": {
   "version": "0.12.3"
  }
 },
 "nbformat": 4,
 "nbformat_minor": 2
}
